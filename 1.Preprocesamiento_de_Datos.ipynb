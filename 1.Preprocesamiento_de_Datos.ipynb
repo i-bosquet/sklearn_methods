{
 "cells": [
  {
   "cell_type": "code",
   "execution_count": null,
   "id": "4db7d83a-8d8d-464b-9498-32922c2e3e3e",
   "metadata": {},
   "outputs": [],
   "source": [
    "# 1. **Preprocesamiento de Datos**\n",
    "Este grupo de métodos se utiliza para preparar los datos antes de aplicar cualquier algoritmo de machine learning. El preprocesamiento asegura que los datos estén en el formato adecuado y mejora el rendimiento de los modelos.\n",
    "   - **Funciones comunes:**\n",
    "     - **StandardScaler:** Normalizar los datos para tener media 0 y desviación estándar 1.\n",
    "     - **MinMaxScaler:** Escalar los datos a un rango específico, generalmente [0, 1].\n",
    "     - **RobustScaler:** Escalar los datos usando estadísticas robustas a valores atípicos.\n",
    "     - **Normalizer:** Normalizar las muestras individualmente para tener norma unitaria.\n",
    "     - **Binarizer:** Convertir datos numéricos en datos binarios.\n",
    "     - **PolynomialFeatures:** Generar nuevas características polinómicas a partir de las características originales."
   ]
  },
  {
   "cell_type": "code",
   "execution_count": null,
   "id": "e585ec0b-e41f-4a15-8e32-01a4c09b6ac8",
   "metadata": {},
   "outputs": [],
   "source": [
    "## Carga de datos y preparación\n",
    "Importamos el dataset Iris y las bibliotecas necesarias. X contiene las características y y las etiquetas."
   ]
  },
  {
   "cell_type": "code",
   "execution_count": 20,
   "id": "c9b82654-8532-48c1-9ec8-d95846cf808a",
   "metadata": {},
   "outputs": [],
   "source": [
    "from sklearn.datasets import load_iris\n",
    "import pandas as pd\n",
    "\n",
    "# Load the dataset\n",
    "data = load_iris()\n",
    "X = data.data\n",
    "y = data.target"
   ]
  },
  {
   "cell_type": "markdown",
   "id": "11c760e5-dc69-4da4-8c67-70b54260abd8",
   "metadata": {},
   "source": [
    "## StandardScaler\n",
    "Escalamos las características para tener media 0 y desviación estándar 1."
   ]
  },
  {
   "cell_type": "code",
   "execution_count": 21,
   "id": "deb0a9a7-f3fc-4332-9caa-a5ab500de438",
   "metadata": {},
   "outputs": [
    {
     "name": "stdout",
     "output_type": "stream",
     "text": [
      "Standard Scaler:\n",
      "   sepal length (cm)  sepal width (cm)  petal length (cm)  petal width (cm)\n",
      "0          -0.900681          1.019004          -1.340227         -1.315444\n",
      "1          -1.143017         -0.131979          -1.340227         -1.315444\n",
      "2          -1.385353          0.328414          -1.397064         -1.315444\n",
      "3          -1.506521          0.098217          -1.283389         -1.315444\n",
      "4          -1.021849          1.249201          -1.340227         -1.315444\n"
     ]
    }
   ],
   "source": [
    "from sklearn.preprocessing import StandardScaler\n",
    "\n",
    "# Initialize the StandardScaler\n",
    "scaler = StandardScaler()\n",
    "\n",
    "# Fit and transform the data\n",
    "X_scaled = scaler.fit_transform(X)\n",
    "\n",
    "# Create a DataFrame for better visualization\n",
    "df_scaled = pd.DataFrame(X_scaled, columns=data.feature_names)\n",
    "\n",
    "print(\"Standard Scaler:\")\n",
    "print(df_scaled.head())"
   ]
  },
  {
   "cell_type": "markdown",
   "id": "96eb02e4-2757-41fd-8efa-4cbfe1096911",
   "metadata": {},
   "source": [
    "## MinMaxScaler\n",
    "Escalamos las características al rango [0, 1]."
   ]
  },
  {
   "cell_type": "code",
   "execution_count": 10,
   "id": "2c7bd9ed-5cbb-4318-9072-95095202eaba",
   "metadata": {},
   "outputs": [
    {
     "name": "stdout",
     "output_type": "stream",
     "text": [
      "MinMax Scaler:\n",
      "   sepal length (cm)  sepal width (cm)  petal length (cm)  petal width (cm)\n",
      "0           0.222222          0.625000           0.067797          0.041667\n",
      "1           0.166667          0.416667           0.067797          0.041667\n",
      "2           0.111111          0.500000           0.050847          0.041667\n",
      "3           0.083333          0.458333           0.084746          0.041667\n",
      "4           0.194444          0.666667           0.067797          0.041667\n"
     ]
    }
   ],
   "source": [
    "from sklearn.preprocessing import MinMaxScaler\n",
    "\n",
    "# Initialize the MinMaxScaler\n",
    "minmax_scaler = MinMaxScaler()\n",
    "\n",
    "# Fit and transform the data\n",
    "X_minmax_scaled = minmax_scaler.fit_transform(X)\n",
    "\n",
    "# Create a DataFrame for better visualization\n",
    "df_minmax_scaled = pd.DataFrame(X_minmax_scaled, columns=data.feature_names)\n",
    "\n",
    "print(\"MinMax Scaler:\")\n",
    "print(df_minmax_scaled.head())"
   ]
  },
  {
   "cell_type": "markdown",
   "id": "2a619d2f-d0ef-4ef7-8054-7d8ac5ea6134",
   "metadata": {},
   "source": [
    "## RobustScaler\n",
    "Escalamos las características utilizando estadísticas robustas a valores atípicos."
   ]
  },
  {
   "cell_type": "code",
   "execution_count": 11,
   "id": "1dd17223-8999-4251-8f4f-338acfb6d244",
   "metadata": {},
   "outputs": [
    {
     "name": "stdout",
     "output_type": "stream",
     "text": [
      "Robust Scaler:\n",
      "   sepal length (cm)  sepal width (cm)  petal length (cm)  petal width (cm)\n",
      "0          -0.538462               1.0          -0.842857         -0.733333\n",
      "1          -0.692308               0.0          -0.842857         -0.733333\n",
      "2          -0.846154               0.4          -0.871429         -0.733333\n",
      "3          -0.923077               0.2          -0.814286         -0.733333\n",
      "4          -0.615385               1.2          -0.842857         -0.733333\n"
     ]
    }
   ],
   "source": [
    "from sklearn.preprocessing import RobustScaler\n",
    "\n",
    "# Initialize the RobustScaler\n",
    "robust_scaler = RobustScaler()\n",
    "\n",
    "# Fit and transform the data\n",
    "X_robust_scaled = robust_scaler.fit_transform(X)\n",
    "\n",
    "# Create a DataFrame for better visualization\n",
    "df_robust_scaled = pd.DataFrame(X_robust_scaled, columns=data.feature_names)\n",
    "\n",
    "print(\"Robust Scaler:\")\n",
    "print(df_robust_scaled.head())"
   ]
  },
  {
   "cell_type": "markdown",
   "id": "e40ee48d-5551-43c5-be9a-41c2d020f15c",
   "metadata": {},
   "source": [
    "# Normalizer\n",
    "Normalizamos las muestras para tener norma unitaria."
   ]
  },
  {
   "cell_type": "code",
   "execution_count": 19,
   "id": "12a67439-3f48-4cd8-af35-a892b9e968d3",
   "metadata": {},
   "outputs": [
    {
     "name": "stdout",
     "output_type": "stream",
     "text": [
      "Normalizer:\n",
      "   sepal length (cm)  sepal width (cm)  petal length (cm)  petal width (cm)\n",
      "0           0.803773          0.551609           0.220644          0.031521\n",
      "1           0.828133          0.507020           0.236609          0.033801\n",
      "2           0.805333          0.548312           0.222752          0.034269\n",
      "3           0.800030          0.539151           0.260879          0.034784\n",
      "4           0.790965          0.569495           0.221470          0.031639\n"
     ]
    }
   ],
   "source": [
    "from sklearn.preprocessing import Normalizer\n",
    "\n",
    "# Initialize the Normalizer\n",
    "normalizer = Normalizer()\n",
    "\n",
    "# Fit and transform the data\n",
    "X_normalized = normalizer.fit_transform(X)\n",
    "\n",
    "# Create a DataFrame for better visualization\n",
    "df_normalized = pd.DataFrame(X_normalized, columns=data.feature_names)\n",
    "\n",
    "print(\"Normalizer:\")\n",
    "print(df_normalized.head())"
   ]
  },
  {
   "cell_type": "markdown",
   "id": "bd509aa0-2a94-478c-b86f-52cb9deb92ad",
   "metadata": {},
   "source": [
    "# Binarizer\n",
    "Binarizamos los datos basándonos en un umbral (3.0)"
   ]
  },
  {
   "cell_type": "code",
   "execution_count": 13,
   "id": "23f5f889-9ff3-4cfa-bf21-e18d6179776f",
   "metadata": {},
   "outputs": [
    {
     "name": "stdout",
     "output_type": "stream",
     "text": [
      "Binarizer:\n",
      "   sepal length (cm)  sepal width (cm)  petal length (cm)  petal width (cm)\n",
      "0                1.0               1.0                0.0               0.0\n",
      "1                1.0               0.0                0.0               0.0\n",
      "2                1.0               1.0                0.0               0.0\n",
      "3                1.0               1.0                0.0               0.0\n",
      "4                1.0               1.0                0.0               0.0\n"
     ]
    }
   ],
   "source": [
    "from sklearn.preprocessing import Binarizer\n",
    "\n",
    "# Initialize the Binarizer with a threshold of 3.0\n",
    "binarizer = Binarizer(threshold=3.0)\n",
    "\n",
    "# Fit and transform the data\n",
    "X_binarized = binarizer.fit_transform(X)\n",
    "\n",
    "# Create a DataFrame for better visualization\n",
    "df_binarized = pd.DataFrame(X_binarized, columns=data.feature_names)\n",
    "\n",
    "print(\"Binarizer:\")\n",
    "print(df_binarized.head())"
   ]
  },
  {
   "cell_type": "markdown",
   "id": "d57edb79-2f73-4f54-93a8-8017e772a739",
   "metadata": {},
   "source": [
    "# PolynomialFeatures\n",
    "Generamos nuevas características consistentes en todas las combinaciones de características hasta un grado dado (2)"
   ]
  },
  {
   "cell_type": "code",
   "execution_count": 14,
   "id": "ae38aa8b-7a37-41e8-b24f-45a41b982327",
   "metadata": {},
   "outputs": [
    {
     "name": "stdout",
     "output_type": "stream",
     "text": [
      "Polynomial Features:\n",
      "     1  sepal length (cm)  sepal width (cm)  petal length (cm)  \\\n",
      "0  1.0                5.1               3.5                1.4   \n",
      "1  1.0                4.9               3.0                1.4   \n",
      "2  1.0                4.7               3.2                1.3   \n",
      "3  1.0                4.6               3.1                1.5   \n",
      "4  1.0                5.0               3.6                1.4   \n",
      "\n",
      "   petal width (cm)  sepal length (cm)^2  sepal length (cm) sepal width (cm)  \\\n",
      "0               0.2                26.01                               17.85   \n",
      "1               0.2                24.01                               14.70   \n",
      "2               0.2                22.09                               15.04   \n",
      "3               0.2                21.16                               14.26   \n",
      "4               0.2                25.00                               18.00   \n",
      "\n",
      "   sepal length (cm) petal length (cm)  sepal length (cm) petal width (cm)  \\\n",
      "0                                 7.14                                1.02   \n",
      "1                                 6.86                                0.98   \n",
      "2                                 6.11                                0.94   \n",
      "3                                 6.90                                0.92   \n",
      "4                                 7.00                                1.00   \n",
      "\n",
      "   sepal width (cm)^2  sepal width (cm) petal length (cm)  \\\n",
      "0               12.25                                4.90   \n",
      "1                9.00                                4.20   \n",
      "2               10.24                                4.16   \n",
      "3                9.61                                4.65   \n",
      "4               12.96                                5.04   \n",
      "\n",
      "   sepal width (cm) petal width (cm)  petal length (cm)^2  \\\n",
      "0                               0.70                 1.96   \n",
      "1                               0.60                 1.96   \n",
      "2                               0.64                 1.69   \n",
      "3                               0.62                 2.25   \n",
      "4                               0.72                 1.96   \n",
      "\n",
      "   petal length (cm) petal width (cm)  petal width (cm)^2  \n",
      "0                                0.28                0.04  \n",
      "1                                0.28                0.04  \n",
      "2                                0.26                0.04  \n",
      "3                                0.30                0.04  \n",
      "4                                0.28                0.04  \n"
     ]
    }
   ],
   "source": [
    "from sklearn.preprocessing import PolynomialFeatures\n",
    "\n",
    "# Initialize the PolynomialFeatures with degree 2\n",
    "poly = PolynomialFeatures(degree=2)\n",
    "\n",
    "# Fit and transform the data\n",
    "X_poly = poly.fit_transform(X)\n",
    "\n",
    "# Create a DataFrame for better visualization\n",
    "df_poly = pd.DataFrame(X_poly, columns=poly.get_feature_names_out(data.feature_names))\n",
    "\n",
    "print(\"Polynomial Features:\")\n",
    "print(df_poly.head())"
   ]
  },
  {
   "cell_type": "code",
   "execution_count": null,
   "id": "95a9827f-777a-4475-a503-3c4384eb75c2",
   "metadata": {},
   "outputs": [],
   "source": []
  }
 ],
 "metadata": {
  "kernelspec": {
   "display_name": "Python 3 (ipykernel)",
   "language": "python",
   "name": "python3"
  },
  "language_info": {
   "codemirror_mode": {
    "name": "ipython",
    "version": 3
   },
   "file_extension": ".py",
   "mimetype": "text/x-python",
   "name": "python",
   "nbconvert_exporter": "python",
   "pygments_lexer": "ipython3",
   "version": "3.12.2"
  }
 },
 "nbformat": 4,
 "nbformat_minor": 5
}
