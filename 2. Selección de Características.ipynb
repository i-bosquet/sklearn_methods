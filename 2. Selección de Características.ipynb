{
 "cells": [
  {
   "cell_type": "code",
   "execution_count": null,
   "id": "dca24b18-677f-4d2f-94f0-7a3c70c450a9",
   "metadata": {},
   "outputs": [],
   "source": [
    "### 2. **Selección de Características**\n",
    "   - **Utilidad:** Este grupo de métodos se utiliza para seleccionar un subconjunto de características relevantes que pueden mejorar el rendimiento y la interpretabilidad del modelo al reducir la dimensionalidad.\n",
    "   - **Funciones comunes:**\n",
    "     - **SelectKBest:** Seleccionar las mejores características basadas en una función de puntuación.\n",
    "     - **RFE (Recursive Feature Elimination):** Selección recursiva de características para eliminar las menos importantes.\n",
    "     - **PCA (Principal Component Analysis):** Reducción de dimensionalidad utilizando componentes principales.\n",
    "     - **VarianceThreshold:** Seleccionar características basadas en un umbral de varianza."
   ]
  },
  {
   "cell_type": "code",
   "execution_count": null,
   "id": "ae55ee75-1501-4dd9-813b-b291d85d6a1f",
   "metadata": {},
   "outputs": [],
   "source": [
    "## Carga de datos y preparación\n",
    "Importamos el dataset Iris y las bibliotecas necesarias. X contiene las características y y las etiquetas"
   ]
  },
  {
   "cell_type": "code",
   "execution_count": 5,
   "id": "b82d8ee6-9610-4359-910a-f7a008438192",
   "metadata": {},
   "outputs": [],
   "source": [
    "from sklearn.datasets import load_iris\n",
    "import pandas as pd\n",
    "\n",
    "# Load the dataset\n",
    "data = load_iris()\n",
    "X = data.data\n",
    "y = data.target"
   ]
  },
  {
   "cell_type": "code",
   "execution_count": null,
   "id": "6f25f081-356f-4e65-913d-1b7d42726681",
   "metadata": {},
   "outputs": [],
   "source": [
    "## SelectKBest\n",
    "Seleccionamos las 2 mejores características según la prueba chi-cuadrado."
   ]
  },
  {
   "cell_type": "code",
   "execution_count": 6,
   "id": "d9b88415-222e-4450-8765-738f449c918f",
   "metadata": {},
   "outputs": [
    {
     "name": "stdout",
     "output_type": "stream",
     "text": [
      "SelectKBest:\n",
      "   Feature1  Feature2\n",
      "0       1.4       0.2\n",
      "1       1.4       0.2\n",
      "2       1.3       0.2\n",
      "3       1.5       0.2\n",
      "4       1.4       0.2\n"
     ]
    }
   ],
   "source": [
    "from sklearn.feature_selection import SelectKBest, chi2\n",
    "\n",
    "# Initialize SelectKBest to select the top 2 features\n",
    "selector = SelectKBest(score_func=chi2, k=2)\n",
    "\n",
    "# Fit and transform the data\n",
    "X_new = selector.fit_transform(X, y)\n",
    "\n",
    "# Create a DataFrame for better visualization\n",
    "df_new = pd.DataFrame(X_new, columns=['Feature1', 'Feature2'])\n",
    "\n",
    "print(\"SelectKBest:\")\n",
    "print(df_new.head())\n"
   ]
  },
  {
   "cell_type": "code",
   "execution_count": null,
   "id": "8ef38278-0638-4c9a-8ae9-703690b8642b",
   "metadata": {},
   "outputs": [],
   "source": [
    "## RFE (Recursive Feature Elimination)\n",
    "Eliminación recursiva de características para seleccionar las 2 mejores características utilizando regresión logística."
   ]
  },
  {
   "cell_type": "code",
   "execution_count": 7,
   "id": "44377ce0-06da-4460-8728-7ab02cfcfd55",
   "metadata": {},
   "outputs": [
    {
     "name": "stdout",
     "output_type": "stream",
     "text": [
      "RFE:\n",
      "   Feature1  Feature2\n",
      "0       1.4       0.2\n",
      "1       1.4       0.2\n",
      "2       1.3       0.2\n",
      "3       1.5       0.2\n",
      "4       1.4       0.2\n"
     ]
    }
   ],
   "source": [
    "from sklearn.feature_selection import RFE\n",
    "from sklearn.linear_model import LogisticRegression\n",
    "\n",
    "# Initialize the model\n",
    "model = LogisticRegression(max_iter=200)\n",
    "\n",
    "# Initialize RFE to select the top 2 features\n",
    "rfe = RFE(estimator=model, n_features_to_select=2)\n",
    "\n",
    "# Fit and transform the data\n",
    "X_rfe = rfe.fit_transform(X, y)\n",
    "\n",
    "# Create a DataFrame for better visualization\n",
    "df_rfe = pd.DataFrame(X_rfe, columns=['Feature1', 'Feature2'])\n",
    "\n",
    "print(\"RFE:\")\n",
    "print(df_rfe.head())"
   ]
  },
  {
   "cell_type": "code",
   "execution_count": null,
   "id": "258420c4-0861-4b98-bf72-e7a11f14cb42",
   "metadata": {},
   "outputs": [],
   "source": [
    "## PCA (Principal Component Analysis)\n",
    "Reducción de dimensionalidad utilizando análisis de componentes principales para obtener 2 componentes principales."
   ]
  },
  {
   "cell_type": "code",
   "execution_count": 3,
   "id": "7365c1ce-8569-4527-bc5a-3d46678b5395",
   "metadata": {},
   "outputs": [
    {
     "name": "stdout",
     "output_type": "stream",
     "text": [
      "PCA:\n",
      "   Principal Component 1  Principal Component 2\n",
      "0              -2.684126               0.319397\n",
      "1              -2.714142              -0.177001\n",
      "2              -2.888991              -0.144949\n",
      "3              -2.745343              -0.318299\n",
      "4              -2.728717               0.326755\n"
     ]
    }
   ],
   "source": [
    "from sklearn.decomposition import PCA\n",
    "\n",
    "# Initialize PCA to reduce to 2 components\n",
    "pca = PCA(n_components=2)\n",
    "\n",
    "# Fit and transform the data\n",
    "X_pca = pca.fit_transform(X)\n",
    "\n",
    "# Create a DataFrame for better visualization\n",
    "df_pca = pd.DataFrame(X_pca, columns=['Principal Component 1', 'Principal Component 2'])\n",
    "\n",
    "print(\"PCA:\")\n",
    "print(df_pca.head())"
   ]
  },
  {
   "cell_type": "markdown",
   "id": "faac4160-b429-4cca-b5d9-9b9eb2f78344",
   "metadata": {},
   "source": [
    "## VarianceThreshold\n",
    "Seleccionamos características según un umbral de varianza de 0.2."
   ]
  },
  {
   "cell_type": "code",
   "execution_count": 4,
   "id": "0bffba44-3ee5-41d1-b7cd-6f1ca6488efc",
   "metadata": {},
   "outputs": [
    {
     "name": "stdout",
     "output_type": "stream",
     "text": [
      "VarianceThreshold:\n",
      "   Feature1  Feature2  Feature3\n",
      "0       5.1       1.4       0.2\n",
      "1       4.9       1.4       0.2\n",
      "2       4.7       1.3       0.2\n",
      "3       4.6       1.5       0.2\n",
      "4       5.0       1.4       0.2\n"
     ]
    }
   ],
   "source": [
    "from sklearn.feature_selection import VarianceThreshold\n",
    "\n",
    "# Initialize VarianceThreshold with a threshold of 0.2\n",
    "selector = VarianceThreshold(threshold=0.2)\n",
    "\n",
    "# Fit and transform the data\n",
    "X_variance = selector.fit_transform(X)\n",
    "\n",
    "# Create a DataFrame for better visualization\n",
    "df_variance = pd.DataFrame(X_variance, columns=['Feature1', 'Feature2', 'Feature3'])\n",
    "\n",
    "print(\"VarianceThreshold:\")\n",
    "print(df_variance.head())"
   ]
  },
  {
   "cell_type": "code",
   "execution_count": null,
   "id": "3c816771-2283-4069-97d9-15eac20841e3",
   "metadata": {},
   "outputs": [],
   "source": []
  }
 ],
 "metadata": {
  "kernelspec": {
   "display_name": "Python 3 (ipykernel)",
   "language": "python",
   "name": "python3"
  },
  "language_info": {
   "codemirror_mode": {
    "name": "ipython",
    "version": 3
   },
   "file_extension": ".py",
   "mimetype": "text/x-python",
   "name": "python",
   "nbconvert_exporter": "python",
   "pygments_lexer": "ipython3",
   "version": "3.12.2"
  }
 },
 "nbformat": 4,
 "nbformat_minor": 5
}
