{
 "cells": [
  {
   "cell_type": "code",
   "execution_count": null,
   "id": "75f2a008-e2e0-4af2-868b-303eda80bca0",
   "metadata": {},
   "outputs": [],
   "source": [
    "# 4. **Modelos de Regresión**\n",
    "   - **Utilidad:** Este grupo de métodos se utiliza para predecir un valor continuo basado en las características de las muestras. Es útil en tareas de regresión donde la salida es un valor numérico.\n",
    "   - **Funciones comunes:**\n",
    "     - **LinearRegression:** Regresión lineal.\n",
    "     - **Ridge:** Regresión lineal con regularización L2.\n",
    "     - **Lasso:** Regresión lineal con regularización L1.\n",
    "     - **ElasticNet:** Combina Lasso y Ridge.\n",
    "     - **SVR (Support Vector Regression):** Regresión usando máquinas de vectores de soporte.\n",
    "     - **RandomForestRegressor:** Regresión usando bosques aleatorios.\n",
    "     - **GradientBoostingRegressor:** Regresión usando boosting de gradiente."
   ]
  },
  {
   "cell_type": "code",
   "execution_count": null,
   "id": "689861f7-2cb5-4e41-979e-90f938247329",
   "metadata": {},
   "outputs": [],
   "source": [
    "## Carga de datos y preparación\n",
    "Cargamos el dataset California housing y dividimos los datos en conjuntos de entrenamiento y prueba."
   ]
  },
  {
   "cell_type": "code",
   "execution_count": 3,
   "id": "558841f5-271d-46a9-b01c-ebfa0ee142d8",
   "metadata": {},
   "outputs": [],
   "source": [
    "from sklearn.datasets import fetch_california_housing\n",
    "from sklearn.model_selection import train_test_split\n",
    "\n",
    "# Load the dataset\n",
    "housing = fetch_california_housing()\n",
    "X = housing.data\n",
    "y = housing.target\n",
    "\n",
    "# Split the dataset into training and testing sets\n",
    "X_train, X_test, y_train, y_test = train_test_split(X, y, test_size=0.2, random_state=42)\n"
   ]
  },
  {
   "cell_type": "code",
   "execution_count": null,
   "id": "77041f16-e1c1-4dab-972a-fc2c5814bc2c",
   "metadata": {},
   "outputs": [],
   "source": [
    "## LinearRegression\n",
    "Entrenamos un modelo de regresión lineal y evaluamos el error cuadrático medio (MSE)"
   ]
  },
  {
   "cell_type": "code",
   "execution_count": 4,
   "id": "1b9e1897-baf6-4bf6-820c-bebb7c02c7b8",
   "metadata": {},
   "outputs": [
    {
     "name": "stdout",
     "output_type": "stream",
     "text": [
      "Linear Regression MSE: 0.56\n"
     ]
    }
   ],
   "source": [
    "from sklearn.linear_model import LinearRegression\n",
    "from sklearn.metrics import mean_squared_error\n",
    "\n",
    "# Initialize the Linear Regression model\n",
    "model = LinearRegression()\n",
    "\n",
    "# Train the model\n",
    "model.fit(X_train, y_train)\n",
    "\n",
    "# Predict using the test set\n",
    "y_pred = model.predict(X_test)\n",
    "\n",
    "# Evaluate the model\n",
    "mse = mean_squared_error(y_test, y_pred)\n",
    "print(f'Linear Regression MSE: {mse:.2f}')\n"
   ]
  },
  {
   "cell_type": "code",
   "execution_count": null,
   "id": "16eeb471-d2e0-438f-8af6-3b494f39dea1",
   "metadata": {},
   "outputs": [],
   "source": [
    "## Ridge\n",
    "Entrenamos un modelo de regresión Ridge con regularización L2 y evaluamos el MSE."
   ]
  },
  {
   "cell_type": "code",
   "execution_count": null,
   "id": "7f90d036-a129-4ef0-98bb-2850d493452c",
   "metadata": {},
   "outputs": [],
   "source": [
    "from sklearn.linear_model import Ridge\n",
    "\n",
    "# Initialize the Ridge Regression model with alpha=1.0\n",
    "model = Ridge(alpha=1.0)\n",
    "\n",
    "# Train the model\n",
    "model.fit(X_train, y_train)\n",
    "\n",
    "# Predict using the test set\n",
    "y_pred = model.predict(X_test)\n",
    "\n",
    "# Evaluate the model\n",
    "mse = mean_squared_error(y_test, y_pred)\n",
    "print(f'Ridge Regression MSE: {mse:.2f}')\n"
   ]
  },
  {
   "cell_type": "code",
   "execution_count": null,
   "id": "46dbaf0b-37fb-4ed2-b6c4-c0ed366df85a",
   "metadata": {},
   "outputs": [],
   "source": [
    "## Lasso\n",
    " Entrenamos un modelo de regresión Lasso con regularización L1 y evaluamos el MSE."
   ]
  },
  {
   "cell_type": "code",
   "execution_count": 5,
   "id": "3894f8c2-428a-442b-9e36-4eeebae845d3",
   "metadata": {},
   "outputs": [
    {
     "name": "stdout",
     "output_type": "stream",
     "text": [
      "Lasso Regression MSE: 0.94\n"
     ]
    }
   ],
   "source": [
    "from sklearn.linear_model import Lasso\n",
    "\n",
    "# Initialize the Lasso Regression model with alpha=1.0\n",
    "model = Lasso(alpha=1.0)\n",
    "\n",
    "# Train the model\n",
    "model.fit(X_train, y_train)\n",
    "\n",
    "# Predict using the test set\n",
    "y_pred = model.predict(X_test)\n",
    "\n",
    "# Evaluate the model\n",
    "mse = mean_squared_error(y_test, y_pred)\n",
    "print(f'Lasso Regression MSE: {mse:.2f}')\n"
   ]
  },
  {
   "cell_type": "code",
   "execution_count": null,
   "id": "0cc01c87-c42d-4bf0-83f0-8a180dd1b920",
   "metadata": {},
   "outputs": [],
   "source": [
    "## ElasticNet\n",
    "Entrenamos un modelo de regresión ElasticNet que combina Lasso y Ridge y evaluamos el MSE."
   ]
  },
  {
   "cell_type": "code",
   "execution_count": 6,
   "id": "d7f9a96e-6908-4991-9f0d-c9634420fd9c",
   "metadata": {},
   "outputs": [
    {
     "name": "stdout",
     "output_type": "stream",
     "text": [
      "ElasticNet Regression MSE: 0.76\n"
     ]
    }
   ],
   "source": [
    "from sklearn.linear_model import ElasticNet\n",
    "\n",
    "# Initialize the ElasticNet model with alpha=1.0 and l1_ratio=0.5\n",
    "model = ElasticNet(alpha=1.0, l1_ratio=0.5)\n",
    "\n",
    "# Train the model\n",
    "model.fit(X_train, y_train)\n",
    "\n",
    "# Predict using the test set\n",
    "y_pred = model.predict(X_test)\n",
    "\n",
    "# Evaluate the model\n",
    "mse = mean_squared_error(y_test, y_pred)\n",
    "print(f'ElasticNet Regression MSE: {mse:.2f}')\n"
   ]
  },
  {
   "cell_type": "code",
   "execution_count": null,
   "id": "970360b5-fd42-468e-a2ba-cb3f7707938e",
   "metadata": {},
   "outputs": [],
   "source": [
    "## SVR (Support Vector Regression)\n",
    "Entrenamos un regresor de vectores de soporte con kernel RBF y evaluamos el MSE."
   ]
  },
  {
   "cell_type": "code",
   "execution_count": 7,
   "id": "549ee907-6ee6-45ef-83e4-34878c97f360",
   "metadata": {},
   "outputs": [
    {
     "name": "stdout",
     "output_type": "stream",
     "text": [
      "SVR MSE: 1.33\n"
     ]
    }
   ],
   "source": [
    "from sklearn.svm import SVR\n",
    "\n",
    "# Initialize the Support Vector Regressor with RBF kernel\n",
    "model = SVR(kernel='rbf')\n",
    "\n",
    "# Train the model\n",
    "model.fit(X_train, y_train)\n",
    "\n",
    "# Predict using the test set\n",
    "y_pred = model.predict(X_test)\n",
    "\n",
    "# Evaluate the model\n",
    "mse = mean_squared_error(y_test, y_pred)\n",
    "print(f'SVR MSE: {mse:.2f}')\n"
   ]
  },
  {
   "cell_type": "code",
   "execution_count": null,
   "id": "655fe4c5-e26d-48b8-a79f-c2b722f0a195",
   "metadata": {},
   "outputs": [],
   "source": [
    "## RandomForestRegressor\n",
    "Entrenamos un regresor de bosque aleatorio con 100 árboles y evaluamos el MSE."
   ]
  },
  {
   "cell_type": "code",
   "execution_count": 8,
   "id": "0b5fa863-76e6-4cee-972f-e94bb53eb290",
   "metadata": {},
   "outputs": [
    {
     "name": "stdout",
     "output_type": "stream",
     "text": [
      "Random Forest Regressor MSE: 0.26\n"
     ]
    }
   ],
   "source": [
    "from sklearn.ensemble import RandomForestRegressor\n",
    "\n",
    "# Initialize the Random Forest Regressor with 100 estimators\n",
    "model = RandomForestRegressor(n_estimators=100, random_state=42)\n",
    "\n",
    "# Train the model\n",
    "model.fit(X_train, y_train)\n",
    "\n",
    "# Predict using the test set\n",
    "y_pred = model.predict(X_test)\n",
    "\n",
    "# Evaluate the model\n",
    "mse = mean_squared_error(y_test, y_pred)\n",
    "print(f'Random Forest Regressor MSE: {mse:.2f}')\n"
   ]
  },
  {
   "cell_type": "code",
   "execution_count": null,
   "id": "77f54dbf-b6d8-41da-8460-aff8cbbfd09d",
   "metadata": {},
   "outputs": [],
   "source": [
    "## GradientBoostingRegressor\n",
    "Entrenamos y evaluamos un regresor basado en boosting de gradiente con 100 estimadores y evaluamos el MSE"
   ]
  },
  {
   "cell_type": "code",
   "execution_count": 9,
   "id": "68e03647-c59d-41c8-b4b8-2f8c729f3ce8",
   "metadata": {},
   "outputs": [
    {
     "name": "stdout",
     "output_type": "stream",
     "text": [
      "Gradient Boosting Regressor MSE: 0.29\n"
     ]
    }
   ],
   "source": [
    "from sklearn.ensemble import GradientBoostingRegressor\n",
    "\n",
    "# Initialize the Gradient Boosting Regressor with 100 estimators\n",
    "model = GradientBoostingRegressor(n_estimators=100, random_state=42)\n",
    "\n",
    "# Train the model\n",
    "model.fit(X_train, y_train)\n",
    "\n",
    "# Predict using the test set\n",
    "y_pred = model.predict(X_test)\n",
    "\n",
    "# Evaluate the model\n",
    "mse = mean_squared_error(y_test, y_pred)\n",
    "print(f'Gradient Boosting Regressor MSE: {mse:.2f}')\n"
   ]
  },
  {
   "cell_type": "code",
   "execution_count": null,
   "id": "6743fc9f-1b91-4a3f-9552-a8b223d53bb7",
   "metadata": {},
   "outputs": [],
   "source": []
  }
 ],
 "metadata": {
  "kernelspec": {
   "display_name": "Python 3 (ipykernel)",
   "language": "python",
   "name": "python3"
  },
  "language_info": {
   "codemirror_mode": {
    "name": "ipython",
    "version": 3
   },
   "file_extension": ".py",
   "mimetype": "text/x-python",
   "name": "python",
   "nbconvert_exporter": "python",
   "pygments_lexer": "ipython3",
   "version": "3.12.2"
  }
 },
 "nbformat": 4,
 "nbformat_minor": 5
}
