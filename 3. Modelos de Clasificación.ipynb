{
 "cells": [
  {
   "cell_type": "code",
   "execution_count": null,
   "id": "470dcf1b-98d8-41ad-bb7b-e1d854e274e9",
   "metadata": {},
   "outputs": [],
   "source": [
    "# 3. **Modelos de Clasificación**\n",
    "   - **Utilidad:** Este grupo de métodos se utiliza para asignar etiquetas a las muestras basadas en sus características. Es útil en tareas de clasificación donde la salida es una categoría discreta.\n",
    "   - **Funciones comunes:**\n",
    "     - **LogisticRegression:** Modelo de regresión logística para clasificación binaria o multiclase.\n",
    "     - **KNeighborsClassifier:** Clasificación basada en los k vecinos más cercanos.\n",
    "     - **SVC (Support Vector Classification):** Clasificación usando máquinas de vectores de soporte.\n",
    "     - **DecisionTreeClassifier:** Clasificación usando árboles de decisión.\n",
    "     - **RandomForestClassifier:** Clasificación usando bosques aleatorios.\n",
    "     - **GradientBoostingClassifier:** Clasificación usando boosting de gradiente."
   ]
  },
  {
   "cell_type": "code",
   "execution_count": null,
   "id": "147c1266-1a71-433f-8318-9934af7f7b76",
   "metadata": {},
   "outputs": [],
   "source": [
    "## Carga de datos y preparación\n",
    "Importamos el dataset wine y las bibliotecas necesarias. X contiene las características y y las etiquetas."
   ]
  },
  {
   "cell_type": "code",
   "execution_count": 65,
   "id": "d8bda3a0-147d-4c57-97cd-6b651a81f3ee",
   "metadata": {},
   "outputs": [],
   "source": [
    "from sklearn.datasets import load_wine\n",
    "from sklearn.model_selection import StratifiedShuffleSplit\n",
    "import pandas as pd\n",
    "\n",
    "# Load the dataset\n",
    "data = load_wine()\n",
    "X = data.data\n",
    "y = data.target\n",
    "\n",
    "# Initialize StratifiedShuffleSplit\n",
    "sss = StratifiedShuffleSplit(n_splits=1, test_size=0.2, random_state=42)\n",
    "\n",
    "# Split the dataset\n",
    "for train_index, test_index in sss.split(X, y):\n",
    "    X_train, X_test = X[train_index], X[test_index]\n",
    "    y_train, y_test = y[train_index], y[test_index]\n"
   ]
  },
  {
   "cell_type": "code",
   "execution_count": null,
   "id": "376a86ac-cdec-469f-8f58-310546d14675",
   "metadata": {},
   "outputs": [],
   "source": [
    "## LogisticRegression\n",
    "Entrenamos un modelo de regresión logística y evaluamos su precisión."
   ]
  },
  {
   "cell_type": "code",
   "execution_count": 77,
   "id": "316c61b3-65e3-4a6d-b49d-7dab5de6f3b4",
   "metadata": {},
   "outputs": [
    {
     "name": "stdout",
     "output_type": "stream",
     "text": [
      "Logistic Regression Accuracy: 0.97\n"
     ]
    }
   ],
   "source": [
    "from sklearn.linear_model import LogisticRegression\n",
    "from sklearn.metrics import accuracy_score\n",
    "from sklearn.preprocessing import StandardScaler\n",
    "\n",
    "# Scale the data\n",
    "scaler = StandardScaler()\n",
    "X_train_scaled = scaler.fit_transform(X_train)\n",
    "X_test_scaled = scaler.transform(X_test)\n",
    "\n",
    "# Initialize the Logistic Regression model\n",
    "model = LogisticRegression(max_iter=200)\n",
    "\n",
    "# Train the model\n",
    "model.fit(X_train_scaled, y_train)\n",
    "\n",
    "# Predict using the test set\n",
    "y_pred = model.predict(X_test_scaled)\n",
    "\n",
    "# Evaluate the model\n",
    "accuracy = accuracy_score(y_test, y_pred)\n",
    "print(f'Logistic Regression Accuracy: {accuracy:.2f}')\n"
   ]
  },
  {
   "cell_type": "code",
   "execution_count": null,
   "id": "221072fd-1beb-4516-bf71-484771480a96",
   "metadata": {},
   "outputs": [],
   "source": [
    "## KNeighborsClassifier\n",
    "Entrenamos un modelo K-vecinos más cercanos y evaluamos su precisión."
   ]
  },
  {
   "cell_type": "code",
   "execution_count": 67,
   "id": "e9d8f5d8-7a9a-4404-b471-a2f96428c92c",
   "metadata": {},
   "outputs": [
    {
     "name": "stdout",
     "output_type": "stream",
     "text": [
      "K-Neighbors Classifier Accuracy: 0.81\n"
     ]
    }
   ],
   "source": [
    "from sklearn.neighbors import KNeighborsClassifier\n",
    "from sklearn.metrics import accuracy_score\n",
    "\n",
    "# Initialize the KNeighborsClassifier with adjusted neighbors\n",
    "model = KNeighborsClassifier(n_neighbors=5)\n",
    "\n",
    "# Train the model\n",
    "model.fit(X_train, y_train)\n",
    "\n",
    "# Predict using the test set\n",
    "y_pred = model.predict(X_test)\n",
    "\n",
    "# Evaluate the model\n",
    "accuracy = accuracy_score(y_test, y_pred)\n",
    "print(f'K-Neighbors Classifier Accuracy: {accuracy:.2f}')\n"
   ]
  },
  {
   "cell_type": "code",
   "execution_count": null,
   "id": "aa1ebcab-f579-4053-95b4-defd5587f3ab",
   "metadata": {},
   "outputs": [],
   "source": [
    "## SVC (Support Vector Classification)"
   ]
  },
  {
   "cell_type": "code",
   "execution_count": 68,
   "id": "e147cedf-2192-49e6-ac76-3b6b38205196",
   "metadata": {},
   "outputs": [
    {
     "name": "stdout",
     "output_type": "stream",
     "text": [
      "SVC Accuracy: 0.69\n"
     ]
    }
   ],
   "source": [
    "from sklearn.svm import SVC\n",
    "from sklearn.metrics import accuracy_score\n",
    "\n",
    "# Initialize the Support Vector Classifier with an 'rbf' kernel\n",
    "model = SVC(kernel='rbf', random_state=42, C=1.0)\n",
    "\n",
    "# Train the model\n",
    "model.fit(X_train, y_train)\n",
    "\n",
    "# Predict using the test set\n",
    "y_pred = model.predict(X_test)\n",
    "\n",
    "# Evaluate the model\n",
    "accuracy = accuracy_score(y_test, y_pred)\n",
    "print(f'SVC Accuracy: {accuracy:.2f}')\n"
   ]
  },
  {
   "cell_type": "code",
   "execution_count": null,
   "id": "c4cd5bad-03b5-4886-a92a-4052c4951715",
   "metadata": {},
   "outputs": [],
   "source": [
    "## DecisionTreeClassifier"
   ]
  },
  {
   "cell_type": "code",
   "execution_count": 69,
   "id": "c580977a-1bfe-479a-9269-be8375224430",
   "metadata": {},
   "outputs": [
    {
     "name": "stdout",
     "output_type": "stream",
     "text": [
      "Decision Tree Classifier Accuracy: 0.94\n"
     ]
    }
   ],
   "source": [
    "from sklearn.tree import DecisionTreeClassifier\n",
    "from sklearn.metrics import accuracy_score\n",
    "\n",
    "# Initialize the Decision Tree Classifier with max_depth\n",
    "model = DecisionTreeClassifier(random_state=42, max_depth=3)\n",
    "\n",
    "# Train the model\n",
    "model.fit(X_train, y_train)\n",
    "\n",
    "# Predict using the test set\n",
    "y_pred = model.predict(X_test)\n",
    "\n",
    "# Evaluate the model\n",
    "accuracy = accuracy_score(y_test, y_pred)\n",
    "print(f'Decision Tree Classifier Accuracy: {accuracy:.2f}')\n"
   ]
  },
  {
   "cell_type": "code",
   "execution_count": null,
   "id": "bb1dca2e-c0ef-4601-9e16-797fae73109f",
   "metadata": {},
   "outputs": [],
   "source": [
    "## RandomForestClassifier"
   ]
  },
  {
   "cell_type": "code",
   "execution_count": 70,
   "id": "cf6913ed-d664-4c44-b23d-29d1356e92d0",
   "metadata": {},
   "outputs": [
    {
     "name": "stdout",
     "output_type": "stream",
     "text": [
      "Random Forest Classifier Accuracy: 1.00\n"
     ]
    }
   ],
   "source": [
    "from sklearn.ensemble import RandomForestClassifier\n",
    "from sklearn.metrics import accuracy_score\n",
    "\n",
    "# Initialize the Random Forest Classifier with max_depth\n",
    "model = RandomForestClassifier(n_estimators=100, random_state=42, max_depth=5)\n",
    "\n",
    "# Train the model\n",
    "model.fit(X_train, y_train)\n",
    "\n",
    "# Predict using the test set\n",
    "y_pred = model.predict(X_test)\n",
    "\n",
    "# Evaluate the model\n",
    "accuracy = accuracy_score(y_test, y_pred)\n",
    "print(f'Random Forest Classifier Accuracy: {accuracy:.2f}')\n"
   ]
  },
  {
   "cell_type": "code",
   "execution_count": null,
   "id": "89f18f64-0375-48fb-aa81-794ee3f3c4df",
   "metadata": {},
   "outputs": [],
   "source": [
    "## GradientBoostingClassifier"
   ]
  },
  {
   "cell_type": "code",
   "execution_count": 71,
   "id": "6cd5889e-78ce-44ee-a411-cbc36af0a001",
   "metadata": {},
   "outputs": [
    {
     "name": "stdout",
     "output_type": "stream",
     "text": [
      "Gradient Boosting Classifier Accuracy: 0.94\n"
     ]
    }
   ],
   "source": [
    "from sklearn.ensemble import GradientBoostingClassifier\n",
    "from sklearn.metrics import accuracy_score\n",
    "\n",
    "# Initialize the Gradient Boosting Classifier with learning_rate and max_depth\n",
    "model = GradientBoostingClassifier(n_estimators=100, random_state=42, learning_rate=0.1, max_depth=3)\n",
    "\n",
    "# Train the model\n",
    "model.fit(X_train, y_train)\n",
    "\n",
    "# Predict using the test set\n",
    "y_pred = model.predict(X_test)\n",
    "\n",
    "# Evaluate the model\n",
    "accuracy = accuracy_score(y_test, y_pred)\n",
    "print(f'Gradient Boosting Classifier Accuracy: {accuracy:.2f}')\n"
   ]
  },
  {
   "cell_type": "code",
   "execution_count": null,
   "id": "cbd4434b-0f43-4edd-88eb-f91ff89dcfc4",
   "metadata": {},
   "outputs": [],
   "source": [
    "## Visualización de la matriz de confusión\n",
    "Mostramos la matriz de confusión para visualizar las predicciones correctas e incorrectas en este caso del último modelo (Gradient Boosting Classifier)"
   ]
  },
  {
   "cell_type": "code",
   "execution_count": 73,
   "id": "f4275295-c3df-4ed5-bd8a-d2385d40188d",
   "metadata": {},
   "outputs": [
    {
     "data": {
      "image/png": "[encoded data removed]",
      "text/plain": [
       "<Figure size 640x480 with 2 Axes>"
      ]
     },
     "metadata": {},
     "output_type": "display_data"
    }
   ],
   "source": [
    "from sklearn.metrics import confusion_matrix, ConfusionMatrixDisplay\n",
    "import matplotlib.pyplot as plt\n",
    "\n",
    "# Display the confusion matrix for the last model (Gradient Boosting Classifier)\n",
    "cm = confusion_matrix(y_test, y_pred)\n",
    "disp = ConfusionMatrixDisplay(confusion_matrix=cm, display_labels=data.target_names)\n",
    "disp.plot()\n",
    "plt.show()"
   ]
  },
  {
   "cell_type": "code",
   "execution_count": null,
   "id": "22d35df8-8e8c-4099-a865-935732b5a86a",
   "metadata": {},
   "outputs": [],
   "source": []
  }
 ],
 "metadata": {
  "kernelspec": {
   "display_name": "Python 3 (ipykernel)",
   "language": "python",
   "name": "python3"
  },
  "language_info": {
   "codemirror_mode": {
    "name": "ipython",
    "version": 3
   },
   "file_extension": ".py",
   "mimetype": "text/x-python",
   "name": "python",
   "nbconvert_exporter": "python",
   "pygments_lexer": "ipython3",
   "version": "3.12.2"
  }
 },
 "nbformat": 4,
 "nbformat_minor": 5
}
