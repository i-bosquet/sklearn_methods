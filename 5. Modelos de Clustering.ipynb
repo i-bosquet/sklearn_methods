{
 "cells": [
  {
   "cell_type": "code",
   "execution_count": null,
   "id": "abb7ac06-ff63-47cf-b8d5-4671b704db7f",
   "metadata": {},
   "outputs": [],
   "source": [
    "# 5. **Modelos de Clustering**\n",
    "   - **Utilidad:** Este grupo de métodos se utiliza para agrupar muestras similares en clusters. Es útil en tareas de clustering donde se busca encontrar agrupaciones naturales en los datos.\n",
    "   - **Funciones comunes:**\n",
    "     - **KMeans:** Clustering basado en k-means.\n",
    "     - **AgglomerativeClustering:** Clustering aglomerativo jerárquico.\n",
    "     - **DBSCAN:** Clustering basado en densidad.\n",
    "     - **MeanShift:** Clustering basado en la estimación de la densidad."
   ]
  },
  {
   "cell_type": "code",
   "execution_count": null,
   "id": "f1cf0d55-6e10-48ab-86b7-4e20ec21d869",
   "metadata": {},
   "outputs": [],
   "source": [
    "## Carga de datos y preparación\n",
    "Importamos el dataset Iris y las bibliotecas necesarias. X contiene las características."
   ]
  },
  {
   "cell_type": "code",
   "execution_count": 1,
   "id": "e8b1e58c-37b9-4194-bc4a-634472943da5",
   "metadata": {},
   "outputs": [],
   "source": [
    "from sklearn.datasets import load_iris\n",
    "import pandas as pd\n",
    "\n",
    "# Load the dataset\n",
    "data = load_iris()\n",
    "X = data.data"
   ]
  },
  {
   "cell_type": "code",
   "execution_count": null,
   "id": "6255a40c-f7f7-4eab-afd1-708f49211510",
   "metadata": {},
   "outputs": [],
   "source": [
    "## KMeans\n",
    "Entrenamos un modelo KMeans con 3 clusters y asignamos cada muestra a un cluster."
   ]
  },
  {
   "cell_type": "code",
   "execution_count": 2,
   "id": "7531920c-799e-4b1c-8d6d-22f943857572",
   "metadata": {},
   "outputs": [
    {
     "name": "stdout",
     "output_type": "stream",
     "text": [
      "KMeans Clustering:\n",
      "   sepal length (cm)  sepal width (cm)  petal length (cm)  petal width (cm)  \\\n",
      "0                5.1               3.5                1.4               0.2   \n",
      "1                4.9               3.0                1.4               0.2   \n",
      "2                4.7               3.2                1.3               0.2   \n",
      "3                4.6               3.1                1.5               0.2   \n",
      "4                5.0               3.6                1.4               0.2   \n",
      "\n",
      "   Cluster  \n",
      "0        1  \n",
      "1        1  \n",
      "2        1  \n",
      "3        1  \n",
      "4        1  \n"
     ]
    }
   ],
   "source": [
    "from sklearn.cluster import KMeans\n",
    "\n",
    "# Initialize the KMeans model with 3 clusters\n",
    "model = KMeans(n_clusters=3, random_state=42)\n",
    "\n",
    "# Fit the model\n",
    "model.fit(X)\n",
    "\n",
    "# Predict the clusters\n",
    "clusters = model.predict(X)\n",
    "\n",
    "# Create a DataFrame for better visualization\n",
    "df_clusters = pd.DataFrame(X, columns=data.feature_names)\n",
    "df_clusters['Cluster'] = clusters\n",
    "\n",
    "print(\"KMeans Clustering:\")\n",
    "print(df_clusters.head())"
   ]
  },
  {
   "cell_type": "code",
   "execution_count": null,
   "id": "4104f416-d5f0-4361-86d5-05d475eeb865",
   "metadata": {},
   "outputs": [],
   "source": [
    "## AgglomerativeClustering\n",
    "Entrenamos un modelo de clustering aglomerativo jerárquico con 3 clusters y asignamos cada muestra a un cluster."
   ]
  },
  {
   "cell_type": "code",
   "execution_count": 3,
   "id": "e5794bc1-9d18-4220-a9b3-630a9333d477",
   "metadata": {},
   "outputs": [
    {
     "name": "stdout",
     "output_type": "stream",
     "text": [
      "Agglomerative Clustering:\n",
      "   sepal length (cm)  sepal width (cm)  petal length (cm)  petal width (cm)  \\\n",
      "0                5.1               3.5                1.4               0.2   \n",
      "1                4.9               3.0                1.4               0.2   \n",
      "2                4.7               3.2                1.3               0.2   \n",
      "3                4.6               3.1                1.5               0.2   \n",
      "4                5.0               3.6                1.4               0.2   \n",
      "\n",
      "   Cluster  \n",
      "0        1  \n",
      "1        1  \n",
      "2        1  \n",
      "3        1  \n",
      "4        1  \n"
     ]
    }
   ],
   "source": [
    "from sklearn.cluster import AgglomerativeClustering\n",
    "\n",
    "# Initialize the AgglomerativeClustering model with 3 clusters\n",
    "model = AgglomerativeClustering(n_clusters=3)\n",
    "\n",
    "# Fit the model and predict the clusters\n",
    "clusters = model.fit_predict(X)\n",
    "\n",
    "# Create a DataFrame for better visualization\n",
    "df_clusters = pd.DataFrame(X, columns=data.feature_names)\n",
    "df_clusters['Cluster'] = clusters\n",
    "\n",
    "print(\"Agglomerative Clustering:\")\n",
    "print(df_clusters.head())\n"
   ]
  },
  {
   "cell_type": "code",
   "execution_count": null,
   "id": "acf10630-d1e4-4c57-9fee-09df2357121f",
   "metadata": {},
   "outputs": [],
   "source": [
    "## DBSCAN\n",
    "Entrenamos un modelo DBSCAN para clustering basado en densidad y asignamos cada muestra a un cluster."
   ]
  },
  {
   "cell_type": "code",
   "execution_count": 4,
   "id": "21823b79-702c-4bf6-8b64-de1765447597",
   "metadata": {},
   "outputs": [
    {
     "name": "stdout",
     "output_type": "stream",
     "text": [
      "DBSCAN Clustering:\n",
      "   sepal length (cm)  sepal width (cm)  petal length (cm)  petal width (cm)  \\\n",
      "0                5.1               3.5                1.4               0.2   \n",
      "1                4.9               3.0                1.4               0.2   \n",
      "2                4.7               3.2                1.3               0.2   \n",
      "3                4.6               3.1                1.5               0.2   \n",
      "4                5.0               3.6                1.4               0.2   \n",
      "\n",
      "   Cluster  \n",
      "0        0  \n",
      "1        0  \n",
      "2        0  \n",
      "3        0  \n",
      "4        0  \n"
     ]
    }
   ],
   "source": [
    "from sklearn.cluster import DBSCAN\n",
    "\n",
    "# Initialize the DBSCAN model\n",
    "model = DBSCAN(eps=0.5, min_samples=5)\n",
    "\n",
    "# Fit the model and predict the clusters\n",
    "clusters = model.fit_predict(X)\n",
    "\n",
    "# Create a DataFrame for better visualization\n",
    "df_clusters = pd.DataFrame(X, columns=data.feature_names)\n",
    "df_clusters['Cluster'] = clusters\n",
    "\n",
    "print(\"DBSCAN Clustering:\")\n",
    "print(df_clusters.head())\n"
   ]
  },
  {
   "cell_type": "code",
   "execution_count": null,
   "id": "429a6527-55ef-4964-b199-14717239652e",
   "metadata": {},
   "outputs": [],
   "source": [
    "## MeanShift\n",
    "Entrenamos un modelo MeanShift para clustering basado en la estimación de la densidad y asignamos cada muestra a un cluster."
   ]
  },
  {
   "cell_type": "code",
   "execution_count": 5,
   "id": "42d1306d-684d-401e-907d-59aef48e5f6c",
   "metadata": {},
   "outputs": [
    {
     "name": "stdout",
     "output_type": "stream",
     "text": [
      "MeanShift Clustering:\n",
      "   sepal length (cm)  sepal width (cm)  petal length (cm)  petal width (cm)  \\\n",
      "0                5.1               3.5                1.4               0.2   \n",
      "1                4.9               3.0                1.4               0.2   \n",
      "2                4.7               3.2                1.3               0.2   \n",
      "3                4.6               3.1                1.5               0.2   \n",
      "4                5.0               3.6                1.4               0.2   \n",
      "\n",
      "   Cluster  \n",
      "0        1  \n",
      "1        1  \n",
      "2        1  \n",
      "3        1  \n",
      "4        1  \n"
     ]
    }
   ],
   "source": [
    "from sklearn.cluster import MeanShift\n",
    "\n",
    "# Initialize the MeanShift model\n",
    "model = MeanShift()\n",
    "\n",
    "# Fit the model and predict the clusters\n",
    "clusters = model.fit_predict(X)\n",
    "\n",
    "# Create a DataFrame for better visualization\n",
    "df_clusters = pd.DataFrame(X, columns=data.feature_names)\n",
    "df_clusters['Cluster'] = clusters\n",
    "\n",
    "print(\"MeanShift Clustering:\")\n",
    "print(df_clusters.head())\n"
   ]
  },
  {
   "cell_type": "code",
   "execution_count": null,
   "id": "a1e85baf-40bd-426b-a5fe-9141fd2ac925",
   "metadata": {},
   "outputs": [],
   "source": []
  }
 ],
 "metadata": {
  "kernelspec": {
   "display_name": "Python 3 (ipykernel)",
   "language": "python",
   "name": "python3"
  },
  "language_info": {
   "codemirror_mode": {
    "name": "ipython",
    "version": 3
   },
   "file_extension": ".py",
   "mimetype": "text/x-python",
   "name": "python",
   "nbconvert_exporter": "python",
   "pygments_lexer": "ipython3",
   "version": "3.12.2"
  }
 },
 "nbformat": 4,
 "nbformat_minor": 5
}
