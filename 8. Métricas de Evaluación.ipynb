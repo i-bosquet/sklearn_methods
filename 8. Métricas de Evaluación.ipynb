{
 "cells": [
  {
   "cell_type": "code",
   "execution_count": null,
   "id": "14805f8c-806e-401e-b20d-d773d2b1b87c",
   "metadata": {},
   "outputs": [],
   "source": [
    "# 8. **Métricas de Evaluación**\n",
    "   - **Utilidad:** Este grupo de métodos se utiliza para medir la precisión y eficacia de los modelos de clasificación y regresión.\n",
    "   - **Funciones comunes:**\n",
    "     - **precision_score:** Calcular la precisión de las predicciones.\n",
    "     - **recall_score:** Calcular el recall de las predicciones.\n",
    "     - **f1_score:** Calcular el F1-score.\n",
    "     - **mean_squared_error:** Calcular el error cuadrático medio.\n",
    "     - **r2_score:** Calcular el coeficiente de determinación (R²)."
   ]
  },
  {
   "cell_type": "code",
   "execution_count": null,
   "id": "3d54e8d7-db44-4be9-a393-c2c49a7a52c6",
   "metadata": {},
   "outputs": [],
   "source": [
    "## Cargar y preparar los datos de clasificación y regresión\n",
    "- Cargamos el dataset Wine y dividimos los datos en conjuntos de entrenamiento y prueba para clasificación.\n",
    "- Cargamos el dataset California housing y dividimos los datos en conjuntos de entrenamiento y prueba para regresión."
   ]
  },
  {
   "cell_type": "code",
   "execution_count": 13,
   "id": "909bc245-7d4b-41b4-b617-0d3536ee70c5",
   "metadata": {},
   "outputs": [],
   "source": [
    "from sklearn.datasets import load_wine, fetch_california_housing\n",
    "from sklearn.model_selection import train_test_split\n",
    "\n",
    "# Load the classification dataset\n",
    "data_clf = load_wine()\n",
    "X_clf = data_clf.data\n",
    "y_clf = data_clf.target\n",
    "\n",
    "# Split the classification dataset into training and testing sets\n",
    "X_train_clf, X_test_clf, y_train_clf, y_test_clf = train_test_split(X_clf, y_clf, test_size=0.2, random_state=42)\n",
    "\n",
    "# Load the regression dataset\n",
    "data_reg = fetch_california_housing()\n",
    "X_reg = data_reg.data\n",
    "y_reg = data_reg.target\n",
    "\n",
    "# Split the regression dataset into training and testing sets\n",
    "X_train_reg, X_test_reg, y_train_reg, y_test_reg = train_test_split(X_reg, y_reg, test_size=0.2, random_state=42)\n"
   ]
  },
  {
   "cell_type": "code",
   "execution_count": null,
   "id": "cf911909-603a-4bf5-b5f8-9e213e4563b5",
   "metadata": {},
   "outputs": [],
   "source": [
    "## Precision, Recall, F1 Score para clasificación\n",
    "- Creamos un pipeline que primero escala los datos y luego aplica la regresión logística.\n",
    "- Entrenamos el modelo, hacemos predicciones y calculamos las métricas de evaluación para clasificación."
   ]
  },
  {
   "cell_type": "code",
   "execution_count": 17,
   "id": "f12a6651-b2b8-4797-9ea1-ccbfa7ac5142",
   "metadata": {},
   "outputs": [
    {
     "name": "stdout",
     "output_type": "stream",
     "text": [
      "Precision: 1.00\n",
      "Recall: 1.00\n",
      "F1 Score: 1.00\n"
     ]
    }
   ],
   "source": [
    "from sklearn.linear_model import LogisticRegression\n",
    "from sklearn.preprocessing import StandardScaler\n",
    "from sklearn.pipeline import Pipeline\n",
    "from sklearn.metrics import precision_score, recall_score, f1_score\n",
    "\n",
    "# Create a pipeline with scaling and logistic regression\n",
    "pipeline_clf = Pipeline([\n",
    "    ('scaler', StandardScaler()),\n",
    "    ('logisticregression', LogisticRegression(max_iter=500, solver='liblinear'))\n",
    "])\n",
    "\n",
    "# Train the model\n",
    "pipeline_clf.fit(X_train_clf, y_train_clf)\n",
    "\n",
    "# Predict using the test set\n",
    "y_pred_clf = pipeline_clf.predict(X_test_clf)\n",
    "\n",
    "# Evaluate the model\n",
    "precision = precision_score(y_test_clf, y_pred_clf, average='weighted')\n",
    "recall = recall_score(y_test_clf, y_pred_clf, average='weighted')\n",
    "f1 = f1_score(y_test_clf, y_pred_clf, average='weighted')\n",
    "\n",
    "print(f'Precision: {precision:.2f}')\n",
    "print(f'Recall: {recall:.2f}')\n",
    "print(f'F1 Score: {f1:.2f}')\n"
   ]
  },
  {
   "cell_type": "code",
   "execution_count": null,
   "id": "00015338-2714-4e75-8cf7-6cd06c937210",
   "metadata": {},
   "outputs": [],
   "source": [
    "## mean_squared_error\n",
    "Entrenamos un modelo de regresión lineal, hacemos predicciones y calculamos el error cuadrático medio."
   ]
  },
  {
   "cell_type": "code",
   "execution_count": 18,
   "id": "48275e6e-9ff2-4739-b66d-a6162dccd168",
   "metadata": {},
   "outputs": [
    {
     "name": "stdout",
     "output_type": "stream",
     "text": [
      "Mean Squared Error: 0.56\n"
     ]
    }
   ],
   "source": [
    "from sklearn.metrics import mean_squared_error\n",
    "from sklearn.linear_model import LinearRegression\n",
    "\n",
    "# Initialize the Linear Regression model\n",
    "model_reg = LinearRegression()\n",
    "\n",
    "# Train the model\n",
    "model_reg.fit(X_train_reg, y_train_reg)\n",
    "\n",
    "# Predict using the test set\n",
    "y_pred_reg = model_reg.predict(X_test_reg)\n",
    "\n",
    "# Evaluate the model\n",
    "mse = mean_squared_error(y_test_reg, y_pred_reg)\n",
    "print(f'Mean Squared Error: {mse:.2f}')\n"
   ]
  },
  {
   "cell_type": "code",
   "execution_count": null,
   "id": "0319ed90-98c6-4a7b-986b-b99a770ca86d",
   "metadata": {},
   "outputs": [],
   "source": [
    "## r2_score\n",
    "Calculamos el coeficiente de determinación R^2"
   ]
  },
  {
   "cell_type": "code",
   "execution_count": 19,
   "id": "417c3bfd-ab47-4ffa-a770-48c3329a6fb2",
   "metadata": {},
   "outputs": [
    {
     "name": "stdout",
     "output_type": "stream",
     "text": [
      "R^2 Score: 0.58\n"
     ]
    }
   ],
   "source": [
    "from sklearn.metrics import r2_score\n",
    "\n",
    "# Evaluate the model\n",
    "r2 = r2_score(y_test_reg, y_pred_reg)\n",
    "print(f'R^2 Score: {r2:.2f}')\n"
   ]
  },
  {
   "cell_type": "code",
   "execution_count": null,
   "id": "bdfae310-cb6e-4fb9-b9ee-8e03b9205f56",
   "metadata": {},
   "outputs": [],
   "source": []
  }
 ],
 "metadata": {
  "kernelspec": {
   "display_name": "Python 3 (ipykernel)",
   "language": "python",
   "name": "python3"
  },
  "language_info": {
   "codemirror_mode": {
    "name": "ipython",
    "version": 3
   },
   "file_extension": ".py",
   "mimetype": "text/x-python",
   "name": "python",
   "nbconvert_exporter": "python",
   "pygments_lexer": "ipython3",
   "version": "3.12.2"
  }
 },
 "nbformat": 4,
 "nbformat_minor": 5
}
